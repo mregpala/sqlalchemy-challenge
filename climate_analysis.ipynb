{
 "cells": [
  {
   "cell_type": "code",
   "execution_count": 2,
   "metadata": {},
   "outputs": [],
   "source": [
    "%matplotlib inline\n",
    "from matplotlib import style\n",
    "style.use('fivethirtyeight')\n",
    "import matplotlib.pyplot as plt"
   ]
  },
  {
   "cell_type": "code",
   "execution_count": 3,
   "metadata": {},
   "outputs": [],
   "source": [
    "import numpy as np\n",
    "import pandas as pd\n",
    "from scipy import stats"
   ]
  },
  {
   "cell_type": "code",
   "execution_count": 4,
   "metadata": {},
   "outputs": [],
   "source": [
    "import datetime as dt"
   ]
  },
  {
   "cell_type": "markdown",
   "metadata": {},
   "source": [
    "# Reflect Tables into SQLAlchemy ORM"
   ]
  },
  {
   "cell_type": "code",
   "execution_count": 5,
   "metadata": {},
   "outputs": [],
   "source": [
    "# Python SQL toolkit and Object Relational Mapper\n",
    "import sqlalchemy\n",
    "from sqlalchemy.ext.automap import automap_base\n",
    "from sqlalchemy.orm import Session\n",
    "from sqlalchemy import create_engine, func,inspect, distinct"
   ]
  },
  {
   "cell_type": "code",
   "execution_count": 6,
   "metadata": {},
   "outputs": [],
   "source": [
    "engine = create_engine(\"sqlite:///Resources/hawaii.sqlite\")"
   ]
  },
  {
   "cell_type": "code",
   "execution_count": 7,
   "metadata": {
    "scrolled": false
   },
   "outputs": [
    {
     "name": "stdout",
     "output_type": "stream",
     "text": [
      "-----Tables------\n",
      "measurement\n",
      "{'name': 'id', 'type': INTEGER(), 'nullable': False, 'default': None, 'autoincrement': 'auto', 'primary_key': 1}\n",
      "{'name': 'station', 'type': TEXT(), 'nullable': True, 'default': None, 'autoincrement': 'auto', 'primary_key': 0}\n",
      "{'name': 'date', 'type': TEXT(), 'nullable': True, 'default': None, 'autoincrement': 'auto', 'primary_key': 0}\n",
      "{'name': 'prcp', 'type': FLOAT(), 'nullable': True, 'default': None, 'autoincrement': 'auto', 'primary_key': 0}\n",
      "{'name': 'tobs', 'type': FLOAT(), 'nullable': True, 'default': None, 'autoincrement': 'auto', 'primary_key': 0}\n",
      "station\n",
      "{'name': 'id', 'type': INTEGER(), 'nullable': False, 'default': None, 'autoincrement': 'auto', 'primary_key': 1}\n",
      "{'name': 'station', 'type': TEXT(), 'nullable': True, 'default': None, 'autoincrement': 'auto', 'primary_key': 0}\n",
      "{'name': 'name', 'type': TEXT(), 'nullable': True, 'default': None, 'autoincrement': 'auto', 'primary_key': 0}\n",
      "{'name': 'latitude', 'type': FLOAT(), 'nullable': True, 'default': None, 'autoincrement': 'auto', 'primary_key': 0}\n",
      "{'name': 'longitude', 'type': FLOAT(), 'nullable': True, 'default': None, 'autoincrement': 'auto', 'primary_key': 0}\n",
      "{'name': 'elevation', 'type': FLOAT(), 'nullable': True, 'default': None, 'autoincrement': 'auto', 'primary_key': 0}\n"
     ]
    }
   ],
   "source": [
    "#Inspect Database. Explore tables and columns\n",
    "Inspector = inspect(engine)\n",
    "tables = Inspector.get_table_names()\n",
    "\n",
    "print(\"-----Tables------\")\n",
    "for table in tables:\n",
    "    print(f\"{table}\")\n",
    "    for column in Inspector.get_columns(table):\n",
    "        print(column)"
   ]
  },
  {
   "cell_type": "code",
   "execution_count": 8,
   "metadata": {},
   "outputs": [],
   "source": [
    "# reflect an existing database into a new model\n",
    "base = automap_base()\n",
    "# reflect the tables\n",
    "base.prepare(engine, reflect=True)"
   ]
  },
  {
   "cell_type": "code",
   "execution_count": 9,
   "metadata": {
    "scrolled": true
   },
   "outputs": [
    {
     "data": {
      "text/plain": [
       "['measurement', 'station']"
      ]
     },
     "execution_count": 9,
     "metadata": {},
     "output_type": "execute_result"
    }
   ],
   "source": [
    "# We can view all of the classes that automap found\n",
    "base.classes.keys()"
   ]
  },
  {
   "cell_type": "code",
   "execution_count": 10,
   "metadata": {},
   "outputs": [],
   "source": [
    "# Save references to each table\n",
    "Measurement = base.classes.measurement\n",
    "Station = base.classes.station"
   ]
  },
  {
   "cell_type": "code",
   "execution_count": 11,
   "metadata": {},
   "outputs": [],
   "source": [
    "# Create our session (link) from Python to the DB\n",
    "session = Session(engine)"
   ]
  },
  {
   "cell_type": "markdown",
   "metadata": {},
   "source": [
    "# Exploratory Climate Analysis"
   ]
  },
  {
   "cell_type": "code",
   "execution_count": 20,
   "metadata": {},
   "outputs": [
    {
     "data": {
      "image/png": "[encoded data removed]",
      "text/plain": [
       "<Figure size 864x720 with 1 Axes>"
      ]
     },
     "metadata": {},
     "output_type": "display_data"
    }
   ],
   "source": [
    "# Design a query to retrieve the last 12 months of precipitation data and plot the results\n",
    "\n",
    "# Calculate the date 1 year ago from the last data point in the database\n",
    "max_date = session.query(func.max(Measurement.date)).first()\n",
    "twelve_months_prior = dt.datetime.strptime(max_date[0], \"%Y-%m-%d\") - dt.timedelta(days=365)\n",
    "\n",
    "# Perform a query to retrieve the data and precipitation scores\n",
    "\n",
    "#Create query to group by month.\n",
    "sel = [func.strftime(\"%Y-%m\",Measurement.date),\n",
    "       func.sum(Measurement.prcp)]\n",
    "\n",
    "precip_by_month = session.query(*sel).\\\n",
    "                  group_by(func.strftime(\"%Y-%m\",Measurement.date)).\\\n",
    "                  filter(Measurement.date >= twelve_months_prior).\\\n",
    "                  order_by(func.strftime(\"%Y-%m\",Measurement.date)).all()\n",
    "\n",
    "#Create query to pull detail and group at day level                     \n",
    "sel = [Measurement.date,\n",
    "       func.sum(Measurement.prcp)]\n",
    "\n",
    "precip_detail = session.query(*sel).\\\n",
    "                group_by(Measurement.date).\\\n",
    "                filter(Measurement.date >= twelve_months_prior).\\\n",
    "                order_by(Measurement.date).all()\n",
    "\n",
    "\n",
    "# Save the query results as a Pandas DataFrame and set the index to the month column\n",
    "#DataFrame with precipitation aggregated by month\n",
    "precip_months_df = pd.DataFrame(precip_by_month,columns=[\"YearMonth\",\"PrcpTotal\"])\n",
    "precip_months_df.set_index(\"YearMonth\", inplace = True)\n",
    "\n",
    "#Save the query results as Pandas DataFrame and set the index to date column\n",
    "#DataFrame with precipitation aggregated by date\n",
    "precip_detail_df = pd.DataFrame(precip_detail, columns=[\"Date\", \"PrcpTotal\"])\n",
    "precip_detail_df.sort_values(by=\"Date\",inplace=True)\n",
    "\n",
    "\n",
    "# Sort the dataframe by date/month\n",
    "precip_months_final_df = precip_months_df.sort_values(by=\"YearMonth\").tail(12)\n",
    "precip_detail_final_df = precip_detail_df.sort_values(by=\"Date\")\n",
    "precip_detail_final_df = precip_detail_final_df.set_index(\"Date\")\n",
    "\n",
    "# Use Pandas Plotting with Matplotlib to plot the data\n",
    "\n",
    "#Plot By Day\n",
    "\n",
    "\n",
    "ax1 = precip_detail_final_df.plot.bar(figsize=(12,10))\n",
    "\n",
    "#Plot Daily Precipitation\n",
    "#reduce ticks for detail graph. Skip every 30 days\n",
    "n=30\n",
    "ax1.get_xticks()[::n]\n",
    "#ax1.get_xticks()\n",
    "#ax1.get_xticklabels()\n",
    "ax1.set_xticks(ax1.get_xticks()[::n])\n",
    "#ax1.set_xticklabels()\n",
    "plt.tight_layout()\n",
    "plt.xlabel(\"Date\")\n",
    "plt.xticks(fontsize=10)\n",
    "plt.ylabel(\"Precipitation (In)\")\n",
    "plt.title(\"Precipitation By Day\")\n",
    "plt.savefig(\"Images/precip_by_day.png\")\n",
    "plt.show()\n"
   ]
  },
  {
   "cell_type": "code",
   "execution_count": 25,
   "metadata": {},
   "outputs": [
    {
     "data": {
      "image/png": "[encoded data removed]",
      "text/plain": [
       "<Figure size 864x720 with 1 Axes>"
      ]
     },
     "metadata": {},
     "output_type": "display_data"
    }
   ],
   "source": [
    "#Plot Precipiation By Month\n",
    "precip_months_final_df.plot.bar(figsize=(12,10))\n",
    "plt.xlabel(\"Month\")\n",
    "plt.xticks(fontsize=10)\n",
    "plt.ylabel(\"Precipitation (In)\")\n",
    "plt.title(\"Precipitation Total By Month\")\n",
    "plt.savefig(\"Images/precip_by_month.png\")\n",
    "plt.show()\n"
   ]
  },
  {
   "cell_type": "code",
   "execution_count": 14,
   "metadata": {
    "scrolled": true
   },
   "outputs": [
    {
     "name": "stdout",
     "output_type": "stream",
     "text": [
      "Mode: 0.0\n",
      "Mean: 0.9741643835616438\n",
      "Median 0.39999999999999997\n",
      "Standard Deviation: 1.7764658628622152\n",
      "Values below -1.4949999999999999 could be outliers.\n",
      "Values above 2.625 could be outliers.\n"
     ]
    }
   ],
   "source": [
    "# Use Pandas to calcualte the summary statistics for the precipitation data (daily detail)\n",
    "\n",
    "prcp_mode = precip_detail_df[\"PrcpTotal\"].mode()\n",
    "prcp_mean = precip_detail_df[\"PrcpTotal\"].mean()\n",
    "prcp_median = precip_detail_df[\"PrcpTotal\"].median()\n",
    "prcp_stddev = precip_detail_df[\"PrcpTotal\"].std()\n",
    "quartiles = precip_detail_df[\"PrcpTotal\"].quantile([.25,.5,.75])\n",
    "lowerq = quartiles[0.25]\n",
    "upperq = quartiles[0.75]\n",
    "iqr = upperq-lowerq\n",
    "lower_bound = lowerq - (1.5*iqr)\n",
    "upper_bound = upperq + (1.5*iqr)\n",
    "\n",
    "outliers = precip_detail_df.loc[(precip_detail_df[\"PrcpTotal\"] <= lower_bound) | (precip_detail_df[\"PrcpTotal\"] >= upper_bound),[\"PrcpTotal\",\"Date\"]]\n",
    "\n",
    "print(f\"Mode: {prcp_mode[0]}\")\n",
    "print(f\"Mean: {prcp_mean}\")\n",
    "print(f\"Median {prcp_median}\")\n",
    "print(f\"Standard Deviation: {prcp_stddev}\")\n",
    "print(f\"Values below {lower_bound} could be outliers.\")\n",
    "print(f\"Values above {upper_bound} could be outliers.\")\n",
    "\n"
   ]
  },
  {
   "cell_type": "code",
   "execution_count": 15,
   "metadata": {
    "scrolled": true
   },
   "outputs": [
    {
     "data": {
      "text/html": [
       "<div>\n",
       "<style scoped>\n",
       "    .dataframe tbody tr th:only-of-type {\n",
       "        vertical-align: middle;\n",
       "    }\n",
       "\n",
       "    .dataframe tbody tr th {\n",
       "        vertical-align: top;\n",
       "    }\n",
       "\n",
       "    .dataframe thead th {\n",
       "        text-align: right;\n",
       "    }\n",
       "</style>\n",
       "<table border=\"1\" class=\"dataframe\">\n",
       "  <thead>\n",
       "    <tr style=\"text-align: right;\">\n",
       "      <th></th>\n",
       "      <th>PrcpTotal</th>\n",
       "    </tr>\n",
       "    <tr>\n",
       "      <th>Date</th>\n",
       "      <th></th>\n",
       "    </tr>\n",
       "  </thead>\n",
       "  <tbody>\n",
       "    <tr>\n",
       "      <th>2016-08-24</th>\n",
       "      <td>9.33</td>\n",
       "    </tr>\n",
       "    <tr>\n",
       "      <th>2016-08-28</th>\n",
       "      <td>3.10</td>\n",
       "    </tr>\n",
       "    <tr>\n",
       "      <th>2016-08-31</th>\n",
       "      <td>3.18</td>\n",
       "    </tr>\n",
       "    <tr>\n",
       "      <th>2016-09-13</th>\n",
       "      <td>2.71</td>\n",
       "    </tr>\n",
       "    <tr>\n",
       "      <th>2016-09-14</th>\n",
       "      <td>14.28</td>\n",
       "    </tr>\n",
       "    <tr>\n",
       "      <th>2016-09-15</th>\n",
       "      <td>4.96</td>\n",
       "    </tr>\n",
       "    <tr>\n",
       "      <th>2016-09-29</th>\n",
       "      <td>2.99</td>\n",
       "    </tr>\n",
       "    <tr>\n",
       "      <th>2016-10-04</th>\n",
       "      <td>3.49</td>\n",
       "    </tr>\n",
       "    <tr>\n",
       "      <th>2016-11-21</th>\n",
       "      <td>3.08</td>\n",
       "    </tr>\n",
       "    <tr>\n",
       "      <th>2016-11-22</th>\n",
       "      <td>5.01</td>\n",
       "    </tr>\n",
       "    <tr>\n",
       "      <th>2016-12-03</th>\n",
       "      <td>2.71</td>\n",
       "    </tr>\n",
       "    <tr>\n",
       "      <th>2016-12-05</th>\n",
       "      <td>3.24</td>\n",
       "    </tr>\n",
       "    <tr>\n",
       "      <th>2016-12-30</th>\n",
       "      <td>3.35</td>\n",
       "    </tr>\n",
       "    <tr>\n",
       "      <th>2017-01-25</th>\n",
       "      <td>3.58</td>\n",
       "    </tr>\n",
       "    <tr>\n",
       "      <th>2017-02-07</th>\n",
       "      <td>7.40</td>\n",
       "    </tr>\n",
       "    <tr>\n",
       "      <th>2017-02-11</th>\n",
       "      <td>11.20</td>\n",
       "    </tr>\n",
       "    <tr>\n",
       "      <th>2017-02-12</th>\n",
       "      <td>10.48</td>\n",
       "    </tr>\n",
       "    <tr>\n",
       "      <th>2017-02-13</th>\n",
       "      <td>2.92</td>\n",
       "    </tr>\n",
       "    <tr>\n",
       "      <th>2017-03-01</th>\n",
       "      <td>11.62</td>\n",
       "    </tr>\n",
       "    <tr>\n",
       "      <th>2017-03-02</th>\n",
       "      <td>6.56</td>\n",
       "    </tr>\n",
       "    <tr>\n",
       "      <th>2017-04-14</th>\n",
       "      <td>6.72</td>\n",
       "    </tr>\n",
       "    <tr>\n",
       "      <th>2017-04-17</th>\n",
       "      <td>3.07</td>\n",
       "    </tr>\n",
       "    <tr>\n",
       "      <th>2017-04-18</th>\n",
       "      <td>3.36</td>\n",
       "    </tr>\n",
       "    <tr>\n",
       "      <th>2017-04-21</th>\n",
       "      <td>8.38</td>\n",
       "    </tr>\n",
       "    <tr>\n",
       "      <th>2017-04-22</th>\n",
       "      <td>4.96</td>\n",
       "    </tr>\n",
       "    <tr>\n",
       "      <th>2017-04-28</th>\n",
       "      <td>4.24</td>\n",
       "    </tr>\n",
       "    <tr>\n",
       "      <th>2017-04-29</th>\n",
       "      <td>8.04</td>\n",
       "    </tr>\n",
       "    <tr>\n",
       "      <th>2017-04-30</th>\n",
       "      <td>6.42</td>\n",
       "    </tr>\n",
       "    <tr>\n",
       "      <th>2017-05-08</th>\n",
       "      <td>3.01</td>\n",
       "    </tr>\n",
       "    <tr>\n",
       "      <th>2017-05-09</th>\n",
       "      <td>4.63</td>\n",
       "    </tr>\n",
       "    <tr>\n",
       "      <th>2017-05-24</th>\n",
       "      <td>3.89</td>\n",
       "    </tr>\n",
       "    <tr>\n",
       "      <th>2017-06-15</th>\n",
       "      <td>2.71</td>\n",
       "    </tr>\n",
       "    <tr>\n",
       "      <th>2017-07-22</th>\n",
       "      <td>4.42</td>\n",
       "    </tr>\n",
       "    <tr>\n",
       "      <th>2017-07-24</th>\n",
       "      <td>3.27</td>\n",
       "    </tr>\n",
       "  </tbody>\n",
       "</table>\n",
       "</div>"
      ],
      "text/plain": [
       "            PrcpTotal\n",
       "Date                 \n",
       "2016-08-24       9.33\n",
       "2016-08-28       3.10\n",
       "2016-08-31       3.18\n",
       "2016-09-13       2.71\n",
       "2016-09-14      14.28\n",
       "2016-09-15       4.96\n",
       "2016-09-29       2.99\n",
       "2016-10-04       3.49\n",
       "2016-11-21       3.08\n",
       "2016-11-22       5.01\n",
       "2016-12-03       2.71\n",
       "2016-12-05       3.24\n",
       "2016-12-30       3.35\n",
       "2017-01-25       3.58\n",
       "2017-02-07       7.40\n",
       "2017-02-11      11.20\n",
       "2017-02-12      10.48\n",
       "2017-02-13       2.92\n",
       "2017-03-01      11.62\n",
       "2017-03-02       6.56\n",
       "2017-04-14       6.72\n",
       "2017-04-17       3.07\n",
       "2017-04-18       3.36\n",
       "2017-04-21       8.38\n",
       "2017-04-22       4.96\n",
       "2017-04-28       4.24\n",
       "2017-04-29       8.04\n",
       "2017-04-30       6.42\n",
       "2017-05-08       3.01\n",
       "2017-05-09       4.63\n",
       "2017-05-24       3.89\n",
       "2017-06-15       2.71\n",
       "2017-07-22       4.42\n",
       "2017-07-24       3.27"
      ]
     },
     "execution_count": 15,
     "metadata": {},
     "output_type": "execute_result"
    }
   ],
   "source": [
    "#Generate Outlier List identified in above cell\n",
    "outliers[[\"Date\",\"PrcpTotal\"]].set_index(\"Date\")"
   ]
  },
  {
   "cell_type": "code",
   "execution_count": 16,
   "metadata": {},
   "outputs": [
    {
     "name": "stdout",
     "output_type": "stream",
     "text": [
      "Total stations: 9, Stations with measurments: 9\n"
     ]
    }
   ],
   "source": [
    "# Design a query to show how many stations are available in this dataset?\n",
    "stations_all = session.query(func.count(distinct(Station.station))).first()\n",
    "                             \n",
    "stations_with_measurements = session.query(func.count(distinct(Measurement.station))).first()\n",
    "\n",
    "print(f\"Total stations: {stations_all[0]}, Stations with measurments: {stations_with_measurements[0]}\")\n"
   ]
  },
  {
   "cell_type": "code",
   "execution_count": 17,
   "metadata": {},
   "outputs": [
    {
     "data": {
      "text/html": [
       "<div>\n",
       "<style scoped>\n",
       "    .dataframe tbody tr th:only-of-type {\n",
       "        vertical-align: middle;\n",
       "    }\n",
       "\n",
       "    .dataframe tbody tr th {\n",
       "        vertical-align: top;\n",
       "    }\n",
       "\n",
       "    .dataframe thead th {\n",
       "        text-align: right;\n",
       "    }\n",
       "</style>\n",
       "<table border=\"1\" class=\"dataframe\">\n",
       "  <thead>\n",
       "    <tr style=\"text-align: right;\">\n",
       "      <th></th>\n",
       "      <th>station</th>\n",
       "      <th>observations</th>\n",
       "    </tr>\n",
       "  </thead>\n",
       "  <tbody>\n",
       "    <tr>\n",
       "      <th>0</th>\n",
       "      <td>USC00519281</td>\n",
       "      <td>2772</td>\n",
       "    </tr>\n",
       "    <tr>\n",
       "      <th>1</th>\n",
       "      <td>USC00519397</td>\n",
       "      <td>2724</td>\n",
       "    </tr>\n",
       "    <tr>\n",
       "      <th>2</th>\n",
       "      <td>USC00513117</td>\n",
       "      <td>2709</td>\n",
       "    </tr>\n",
       "    <tr>\n",
       "      <th>3</th>\n",
       "      <td>USC00519523</td>\n",
       "      <td>2669</td>\n",
       "    </tr>\n",
       "    <tr>\n",
       "      <th>4</th>\n",
       "      <td>USC00516128</td>\n",
       "      <td>2612</td>\n",
       "    </tr>\n",
       "    <tr>\n",
       "      <th>5</th>\n",
       "      <td>USC00514830</td>\n",
       "      <td>2202</td>\n",
       "    </tr>\n",
       "    <tr>\n",
       "      <th>6</th>\n",
       "      <td>USC00511918</td>\n",
       "      <td>1979</td>\n",
       "    </tr>\n",
       "    <tr>\n",
       "      <th>7</th>\n",
       "      <td>USC00517948</td>\n",
       "      <td>1372</td>\n",
       "    </tr>\n",
       "    <tr>\n",
       "      <th>8</th>\n",
       "      <td>USC00518838</td>\n",
       "      <td>511</td>\n",
       "    </tr>\n",
       "  </tbody>\n",
       "</table>\n",
       "</div>"
      ],
      "text/plain": [
       "       station  observations\n",
       "0  USC00519281          2772\n",
       "1  USC00519397          2724\n",
       "2  USC00513117          2709\n",
       "3  USC00519523          2669\n",
       "4  USC00516128          2612\n",
       "5  USC00514830          2202\n",
       "6  USC00511918          1979\n",
       "7  USC00517948          1372\n",
       "8  USC00518838           511"
      ]
     },
     "execution_count": 17,
     "metadata": {},
     "output_type": "execute_result"
    }
   ],
   "source": [
    "# What are the most active stations? (i.e. what stations have the most rows)?\n",
    "# List the stations and the counts in descending order.\n",
    "\n",
    "sel = [Measurement.station,\n",
    "       func.count()]\n",
    "\n",
    "station_most_active_qry = session.query(*sel).\\\n",
    "                           group_by(Measurement.station).\\\n",
    "                           order_by(func.count().desc()).all()\n",
    "station_most_active_df = pd.DataFrame(station_most_active_qry,columns=[\"station\",\"observations\"])\n",
    "\n",
    "station_most_active_df"
   ]
  },
  {
   "cell_type": "code",
   "execution_count": 18,
   "metadata": {},
   "outputs": [
    {
     "name": "stdout",
     "output_type": "stream",
     "text": [
      "Station: USC00519281 precipiation stats - Min: 0.0 Max: 9.64 Avg: 0.212\n"
     ]
    }
   ],
   "source": [
    "# Using the station id from the previous query, calculate the lowest temperature recorded, \n",
    "# highest temperature recorded, and average temperature of the most active station?\n",
    "\n",
    "station_most_active = station_most_active_df.iloc[0,0]\n",
    "\n",
    "sel = [Measurement.station,\n",
    "       func.min(Measurement.prcp),\n",
    "       func.max(Measurement.prcp),\n",
    "       func.avg(Measurement.prcp)]\n",
    "station_stats = session.query(*sel).\\\n",
    "                        filter(Measurement.station == station_most_active).\\\n",
    "                         group_by(Measurement.station).first()\n",
    "\n",
    "print(f\"Station: {station_stats[0]} precipiation stats - Min: {station_stats[1]} Max: {station_stats[2]} Avg: {round(station_stats[3],3)}\")"
   ]
  },
  {
   "cell_type": "code",
   "execution_count": 23,
   "metadata": {},
   "outputs": [
    {
     "data": {
      "image/png": "[encoded data removed]",
      "text/plain": [
       "<Figure size 864x720 with 1 Axes>"
      ]
     },
     "metadata": {},
     "output_type": "display_data"
    }
   ],
   "source": [
    "# Choose the station with the highest number of temperature observations.\n",
    "# Query the last 12 months of temperature observation data for this station and plot the results as a histogram\n",
    "\n",
    "sel = [func.strftime(\"%Y-%m\",Measurement.date),\n",
    "       func.count()]\n",
    "\n",
    "obs_by_month = session.query(*sel).\\\n",
    "                  group_by(func.strftime(\"%Y-%m\",Measurement.date)).\\\n",
    "                  filter(Measurement.date >= twelve_months_prior, Measurement.station == station_most_active).\\\n",
    "                  order_by(func.strftime(\"%Y-%m\",Measurement.date)).all()\n",
    "\n",
    "obs_by_month_df = pd.DataFrame(obs_by_month,columns=[\"YearMonth\",\"Observations\"])\n",
    "obs_by_month_df.sort_values(by=\"YearMonth\",inplace=True)\n",
    "obs_by_month_df.set_index(\"YearMonth\",inplace=True)\n",
    "obs_by_month_df.plot.bar(figsize=(12,10))\n",
    "\n",
    "plt.title(f\"Observations By Month For Station {station_most_active}\")\n",
    "plt.xticks(fontsize=9)\n",
    "plt.xlabel(\"Past 12 Months\")\n",
    "plt.ylabel(\"Observations\")\n",
    "plt.savefig(\"Images/most_active_station_obs.png\")\n",
    "plt.show()\n"
   ]
  },
  {
   "cell_type": "markdown",
   "metadata": {},
   "source": [
    "## Bonus Challenge Assignment"
   ]
  },
  {
   "cell_type": "markdown",
   "metadata": {},
   "source": [
    "## Temperature 1 Analysis"
   ]
  },
  {
   "cell_type": "code",
   "execution_count": 176,
   "metadata": {
    "scrolled": false
   },
   "outputs": [
    {
     "data": {
      "text/html": [
       "<div>\n",
       "<style scoped>\n",
       "    .dataframe tbody tr th:only-of-type {\n",
       "        vertical-align: middle;\n",
       "    }\n",
       "\n",
       "    .dataframe tbody tr th {\n",
       "        vertical-align: top;\n",
       "    }\n",
       "\n",
       "    .dataframe thead th {\n",
       "        text-align: right;\n",
       "    }\n",
       "</style>\n",
       "<table border=\"1\" class=\"dataframe\">\n",
       "  <thead>\n",
       "    <tr style=\"text-align: right;\">\n",
       "      <th></th>\n",
       "      <th>staion</th>\n",
       "      <th>jun</th>\n",
       "      <th>dec</th>\n",
       "    </tr>\n",
       "  </thead>\n",
       "  <tbody>\n",
       "    <tr>\n",
       "      <th>0</th>\n",
       "      <td>USC00511918</td>\n",
       "      <td>74.139394</td>\n",
       "      <td>69.684211</td>\n",
       "    </tr>\n",
       "    <tr>\n",
       "      <th>1</th>\n",
       "      <td>USC00513117</td>\n",
       "      <td>74.050847</td>\n",
       "      <td>71.069444</td>\n",
       "    </tr>\n",
       "    <tr>\n",
       "      <th>2</th>\n",
       "      <td>USC00514830</td>\n",
       "      <td>76.005376</td>\n",
       "      <td>73.224719</td>\n",
       "    </tr>\n",
       "    <tr>\n",
       "      <th>3</th>\n",
       "      <td>USC00516128</td>\n",
       "      <td>71.937220</td>\n",
       "      <td>69.291262</td>\n",
       "    </tr>\n",
       "    <tr>\n",
       "      <th>4</th>\n",
       "      <td>USC00517948</td>\n",
       "      <td>76.655405</td>\n",
       "      <td>71.834862</td>\n",
       "    </tr>\n",
       "    <tr>\n",
       "      <th>5</th>\n",
       "      <td>USC00518838</td>\n",
       "      <td>73.394737</td>\n",
       "      <td>72.421053</td>\n",
       "    </tr>\n",
       "    <tr>\n",
       "      <th>6</th>\n",
       "      <td>USC00519281</td>\n",
       "      <td>73.271186</td>\n",
       "      <td>69.903226</td>\n",
       "    </tr>\n",
       "    <tr>\n",
       "      <th>7</th>\n",
       "      <td>USC00519397</td>\n",
       "      <td>77.559322</td>\n",
       "      <td>71.109524</td>\n",
       "    </tr>\n",
       "    <tr>\n",
       "      <th>8</th>\n",
       "      <td>USC00519523</td>\n",
       "      <td>76.668103</td>\n",
       "      <td>72.433333</td>\n",
       "    </tr>\n",
       "  </tbody>\n",
       "</table>\n",
       "</div>"
      ],
      "text/plain": [
       "        staion        jun        dec\n",
       "0  USC00511918  74.139394  69.684211\n",
       "1  USC00513117  74.050847  71.069444\n",
       "2  USC00514830  76.005376  73.224719\n",
       "3  USC00516128  71.937220  69.291262\n",
       "4  USC00517948  76.655405  71.834862\n",
       "5  USC00518838  73.394737  72.421053\n",
       "6  USC00519281  73.271186  69.903226\n",
       "7  USC00519397  77.559322  71.109524\n",
       "8  USC00519523  76.668103  72.433333"
      ]
     },
     "execution_count": 176,
     "metadata": {},
     "output_type": "execute_result"
    }
   ],
   "source": [
    "#Load Pandas tables:\n",
    "measurements_df = pd.read_csv(\"Resources/hawaii_measurements.csv\")\n",
    "\n",
    "#Create new column with date value converted to date/time\n",
    "measurements_df[\"date_calc\"] = pd.to_datetime(measurements_df[\"date\"])\n",
    "measurements_df[\"month\"] =  measurements_df[\"date_calc\"].dt.month\n",
    "\n",
    "#Group by Station, month for June and Decemenber months only\n",
    "measurements_jun_dec_df = measurements_df[(measurements_df[\"month\"] == 6) | (measurements_df[\"month\"] == 12)]\n",
    "measurements_jun_dec_df\n",
    "measurements_jun_dec_group_df = measurements_jun_dec_df.groupby(by = [\"station\",\"month\"])[\"tobs\"].mean().reset_index()\n",
    "\n",
    "#Pivot Dataframe to prepare temperature measurements for paired T test. Station's June average temperature versus Decemenber.\n",
    "#Observations are compared from the same population (stations). Use a pivot table on station to prepare data for T Test.\n",
    "measurements_jun_dec_group_df = measurements_jun_dec_group_df.pivot(index=\"station\",columns=\"month\",values=\"tobs\")\n",
    "measurements_jun_dec_group_df.reset_index(inplace = True)\n",
    "\n",
    "measurements_jun_dec_group_df.columns = [\"staion\",\"jun\",\"dec\"]\n",
    "\n",
    "measurements_jun_dec_group_df"
   ]
  },
  {
   "cell_type": "markdown",
   "metadata": {},
   "source": [
    "### Paired T Test\n",
    "Time based results from the same population are being studied to determine if the month of the year significantly impacts temperature.  Since the same population of stations are being used and we're comparing paired observation outcomes using a paired T test is appropriate.\n",
    "\n",
    "**H<sub>O**: There is no significant difference between June and December average temperature\n",
    "    \n",
    "**H<sub>A**: There is a significatn difference between Jane and December average temperatures"
   ]
  },
  {
   "cell_type": "code",
   "execution_count": 177,
   "metadata": {
    "scrolled": true
   },
   "outputs": [
    {
     "name": "stdout",
     "output_type": "stream",
     "text": [
      "P-Value:0.00011759380231523222 T-Statistic:6.95696617044294\n"
     ]
    }
   ],
   "source": [
    "#Using a paired T Test \n",
    "measurements_jun_dec_group_df[\"jun\"]\n",
    "tStat, pValue =  stats.ttest_rel(measurements_jun_dec_group_df[\"jun\"], measurements_jun_dec_group_df[\"dec\"])\n",
    "print(\"P-Value:{0} T-Statistic:{1}\".format(pValue,tStat)) #print the P-Value and the T-Statisti"
   ]
  },
  {
   "cell_type": "markdown",
   "metadata": {},
   "source": [
    "### Results \n",
    "With P-Value of.00012 and less than .05 we can reject the null hypothesis and report that there is sufficient evidence that the average temperature of the month and June and December is different."
   ]
  }
 ],
 "metadata": {
  "kernel_info": {
   "name": "python3"
  },
  "kernelspec": {
   "display_name": "Python 3",
   "language": "python",
   "name": "python3"
  },
  "language_info": {
   "codemirror_mode": {
    "name": "ipython",
    "version": 3
   },
   "file_extension": ".py",
   "mimetype": "text/x-python",
   "name": "python",
   "nbconvert_exporter": "python",
   "pygments_lexer": "ipython3",
   "version": "3.8.5"
  },
  "nteract": {
   "version": "0.12.3"
  },
  "varInspector": {
   "cols": {
    "lenName": 16,
    "lenType": 16,
    "lenVar": 40
   },
   "kernels_config": {
    "python": {
     "delete_cmd_postfix": "",
     "delete_cmd_prefix": "del ",
     "library": "var_list.py",
     "varRefreshCmd": "print(var_dic_list())"
    },
    "r": {
     "delete_cmd_postfix": ") ",
     "delete_cmd_prefix": "rm(",
     "library": "var_list.r",
     "varRefreshCmd": "cat(var_dic_list()) "
    }
   },
   "types_to_exclude": [
    "module",
    "function",
    "builtin_function_or_method",
    "instance",
    "_Feature"
   ],
   "window_display": false
  }
 },
 "nbformat": 4,
 "nbformat_minor": 2
}
